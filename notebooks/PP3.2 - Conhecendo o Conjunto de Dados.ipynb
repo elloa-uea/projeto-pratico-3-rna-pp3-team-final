{
 "cells": [
  {
   "cell_type": "markdown",
   "metadata": {
    "id": "RvuOdKrlRwHw"
   },
   "source": [
    "## Redes Neurais Artificiais 2020.1\n",
    "\n",
    "**Disciplina**: Redes Neurais Artificiais 2020.1  \n",
    "**Professora**: Elloá B. Guedes (ebgcosta@uea.edu.br)  \n",
    "**Github**: http://github.com/elloa  \n",
    "\n",
    "### Explorando uma base de dados\n",
    "\n",
    "Nesta atividade prática iremos explorar a seguinte base de dados **_Forest Cover Type_**\n",
    "\n",
    "1. Obtenha esta base de dados no seguinte link: https://www.kaggle.com/uciml/forest-cover-type-dataset/download\n",
    "2. Consulte a documentação oficial da base de dados: https://archive.ics.uci.edu/ml/datasets/covertype\n",
    "3. **Responda**:  \n",
    "  3.1 O que é cada exemplo na base de dados?  \n",
    "  3.2 Em que ano ela foi obtida?  \n",
    "  3.3 Quem foram os responsáveis pela criação desta base de dados?  "
   ]
  },
  {
   "cell_type": "markdown",
   "metadata": {
    "id": "8g7AoYbddgT_"
   },
   "source": [
    "### 1. O que é cada exemplo na base de dados?\n",
    "\n",
    "O tipo real de cobertura florestal para uma determinada observação (célula de 30 x 30 metros) "
   ]
  },
  {
   "cell_type": "markdown",
   "metadata": {
    "id": "9nWSl9OnfFnW"
   },
   "source": [
    "###  2. Em que ano ela foi obtida?\n",
    "\n",
    "Os dados foram obtidos no ano de 1998 "
   ]
  },
  {
   "cell_type": "markdown",
   "metadata": {
    "id": "rmTM8CzkfP8n"
   },
   "source": [
    "### 3. Quem foram os responsáveis pela criação desta base de dados?\n",
    "Os responsaveis pela criacao da base de dados são 3, sendo eles listados a seguir com suas respectivas informações adicionais\n",
    "* Jock A. Blackard COORDENADOR DO GIS USFS - Forest Inventory & Analysis Rocky Mountain Research Station\n",
    "* Dr. Denis J. Dean Professor Program in Geography and Geospatial Sciences School of Economic, Political and Policy Sciences\n",
    "* Dr. Charles W. Anderson Associate Professor Department of Computer Science Colorado State University"
   ]
  },
  {
   "cell_type": "markdown",
   "metadata": {
    "id": "_mFC2MiLRwH2"
   },
   "source": [
    "### Manipulando a base de dados\n",
    "\n",
    "1. Abra a base de dados com o pandas\n",
    "2. Imprima os 10 primeiros exemplos pertencentes à esta base\n",
    "3. Imprima os 10 últimos exemplos pertencentes à esta base\n",
    "4. Quantos exemplos esta base de dados possui?\n",
    "5. Quais são os atributos que a base de dados possui e quais seus tipos?\n",
    "6. Há algum dado faltante na base?\n",
    "7. De acordo com a documentação da base de dados, qual o significado dos atributos do tipo \"Soil Type\"?  \n",
    "  7.1 Este atributo é quantitativo ou qualitativo?  \n",
    "  7.2 Qual o tipo de codificação utilizada para denotar este atributo? Consulte a seguinte referência:  \n",
    "  * https://pbpython.com/categorical-encoding.html"
   ]
  },
  {
   "cell_type": "code",
   "execution_count": 2,
   "metadata": {
    "id": "nEeKN1B8RwHx"
   },
   "outputs": [
    {
     "ename": "ModuleNotFoundError",
     "evalue": "No module named 'prettytable'",
     "output_type": "error",
     "traceback": [
      "\u001b[1;31m---------------------------------------------------------------------------\u001b[0m",
      "\u001b[1;31mModuleNotFoundError\u001b[0m                       Traceback (most recent call last)",
      "\u001b[1;32m<ipython-input-2-d1373cb8f1cf>\u001b[0m in \u001b[0;36m<module>\u001b[1;34m\u001b[0m\n\u001b[0;32m      8\u001b[0m \u001b[1;31m# import plotly.graph_objects as go\u001b[0m\u001b[1;33m\u001b[0m\u001b[1;33m\u001b[0m\u001b[1;33m\u001b[0m\u001b[0m\n\u001b[0;32m      9\u001b[0m \u001b[1;32mimport\u001b[0m \u001b[0mmath\u001b[0m\u001b[1;33m\u001b[0m\u001b[1;33m\u001b[0m\u001b[0m\n\u001b[1;32m---> 10\u001b[1;33m \u001b[1;32mfrom\u001b[0m \u001b[0mprettytable\u001b[0m \u001b[1;32mimport\u001b[0m \u001b[0mPrettyTable\u001b[0m\u001b[1;33m\u001b[0m\u001b[1;33m\u001b[0m\u001b[0m\n\u001b[0m\u001b[0;32m     11\u001b[0m \u001b[1;32mfrom\u001b[0m \u001b[0msklearn\u001b[0m\u001b[1;33m.\u001b[0m\u001b[0mpreprocessing\u001b[0m \u001b[1;32mimport\u001b[0m \u001b[0mOneHotEncoder\u001b[0m\u001b[1;33m\u001b[0m\u001b[1;33m\u001b[0m\u001b[0m\n",
      "\u001b[1;31mModuleNotFoundError\u001b[0m: No module named 'prettytable'"
     ]
    }
   ],
   "source": [
    "## Reservado para a importação de bibliotecas\n",
    "\n",
    "# from google.colab import drive\n",
    "import pandas as pd\n",
    "import matplotlib.pyplot as plt\n",
    "import numpy as np\n",
    "# import plotly.offline as py\n",
    "# import plotly.graph_objects as go\n",
    "import math\n",
    "from prettytable import PrettyTable  \n",
    "from sklearn.preprocessing import OneHotEncoder"
   ]
  },
  {
   "cell_type": "code",
   "execution_count": null,
   "metadata": {
    "colab": {
     "base_uri": "https://localhost:8080/",
     "height": 34
    },
    "id": "O2mpGqzbST9R",
    "outputId": "67d0331c-41cc-4af9-ade1-7c627f8e790a"
   },
   "outputs": [],
   "source": [
    "# Montagem do drive para o carregamento da base de dados por meio do google colab\n",
    "drive.mount('/content/drive/')"
   ]
  },
  {
   "cell_type": "code",
   "execution_count": null,
   "metadata": {
    "id": "QqM98CHvSUsQ"
   },
   "outputs": [],
   "source": [
    "# Leitura do dataset covtype.csv\n",
    "\n",
    "df = pd.read_csv('/content/drive/My Drive/Colab Notebooks/covtype.csv', sep=',') #caso use colab\n",
    "# df = pd.read_csv('./covtype.csv') #caso faça localmente pelo jupyter"
   ]
  },
  {
   "cell_type": "code",
   "execution_count": null,
   "metadata": {
    "colab": {
     "base_uri": "https://localhost:8080/",
     "height": 238
    },
    "id": "jW3vF1CzRwH2",
    "outputId": "1b4cc3da-e048-42b1-d882-b27aacb1229a"
   },
   "outputs": [],
   "source": [
    "# Impressao dos 10 primeiros elementos do dataset\n",
    "\n",
    "print(df.head(10))"
   ]
  },
  {
   "cell_type": "code",
   "execution_count": null,
   "metadata": {
    "colab": {
     "base_uri": "https://localhost:8080/",
     "height": 238
    },
    "id": "hpOSS__GRwH4",
    "outputId": "8e821a8a-7031-49b7-b97d-184ae2212300"
   },
   "outputs": [],
   "source": [
    "# Impressao dos 10 ultimos elementos do dataset\n",
    "\n",
    "print(df.tail(10))"
   ]
  },
  {
   "cell_type": "code",
   "execution_count": null,
   "metadata": {
    "colab": {
     "base_uri": "https://localhost:8080/",
     "height": 34
    },
    "id": "UIzUd2agRwH6",
    "outputId": "86fc33c1-33c9-480e-af1e-31d82acd56d7"
   },
   "outputs": [],
   "source": [
    "print(len(df))"
   ]
  },
  {
   "cell_type": "markdown",
   "metadata": {
    "id": "Iy8MAm7Wq6rJ"
   },
   "source": [
    "De acordo com o comando executado acima, pode-se constatar que esta base de dados possui exatamente `581012` exemplos brutos. Sendo eles dispostos em cada uma das tuplas contidas no DataFrame(df).\n"
   ]
  },
  {
   "cell_type": "code",
   "execution_count": null,
   "metadata": {
    "colab": {
     "base_uri": "https://localhost:8080/",
     "height": 1000
    },
    "id": "8pfJYS1JRwH8",
    "outputId": "d4866c20-786f-422d-f731-546d7994ebf6",
    "scrolled": false
   },
   "outputs": [],
   "source": [
    "# Verificação dos atributos da base de dados e seus respectivos tipos\n",
    "\n",
    "table = PrettyTable([\"Atributo\", \"Tipo\"])                                # Cria a tabela com as colunas \"atributo\" e \"tipo\"\n",
    "table.padding_width = 1\n",
    "\n",
    "for i in range(len(df.dtypes)):                                          # loop para peencher os dados da tabela\n",
    "  table.add_row([df.dtypes.index[i], df.dtypes.values[i]])\n",
    "\n",
    "print(table)"
   ]
  },
  {
   "cell_type": "code",
   "execution_count": null,
   "metadata": {
    "colab": {
     "base_uri": "https://localhost:8080/",
     "height": 34
    },
    "id": "SolpvSOmZqon",
    "outputId": "a237c251-51ed-4a13-e674-f3cf38c7d30d"
   },
   "outputs": [],
   "source": [
    "# Verificacao da existencia de dados faltantes\n",
    "\n",
    "print(len(df) - len(df.dropna()))"
   ]
  },
  {
   "cell_type": "markdown",
   "metadata": {
    "id": "vLAdtdB2sTo3"
   },
   "source": [
    "Como pode-se ver com o codigo acima, não há atributos faltantes na base de dados pois não foi possivel deletar nenhuma tupla atravez do comando \n",
    "> df.dropna()\n"
   ]
  },
  {
   "cell_type": "markdown",
   "metadata": {
    "id": "o_k-MNVkc4Bp"
   },
   "source": [
    "### 7. De acordo com a documentação da base de dados, qual o significado dos atributos do tipo \"Soil Type\"? \n",
    "* 7.1 Este atributo é quantitativo ou qualitativo?  \n",
    "* 7.2 Qual o tipo de codificação utilizada para denotar este atributo?\n",
    "\n",
    "De acordo com a base de dados, o atributo `Soil_Type` significa a designação do tipo de solo.  \n",
    "Sendo ele um **atributo qualitativo** binário, existem 40 atributos diferentes no dataset para identificar o tipo deste solo existente.  \n",
    "\n",
    "No dataset, o valor inteiro 0 significa a ausência e o valor inteiro 1 a presença do `Soil_type` dentro do contexto da base de dados.\n",
    "Ou seja, dentre os 40 atributos Soil_type, aquele que for existente terá seu valor igual a 1. Vale ressaltar tambem que esse atributo de 40 bits usa a codificacao **OneHotEncoder** que pode ser acessada atraves da biblioteca:\n",
    "> from sklearn.preprocessing import OneHotEncoder"
   ]
  },
  {
   "cell_type": "markdown",
   "metadata": {
    "id": "XJa6p-S3RwH_"
   },
   "source": [
    "### Visualizando a base de dados\n",
    "\n",
    "1. Baseando-se nos fundamentos de visualização de dados abordados na disciplina, plote cada um dos atributos preditores de maneira a enfatizar a sua distribuição, tendência central e dispersão  \n",
    "1.1 Considere que o número de columas no dataset é diferente do número de atributos, conforme discussão promovida a respeito do dataset  \n",
    "1.2 Se preferir, opte por complementar as informações visuais com medidas estatísticas  \n",
    "2. A partir da visualização elaborada, o que pode-se dizer a respeito do balanceamento do atributo-alvo?\n",
    "3. Que tipo de tarefa de Aprendizado de Máquina é sugestiva para este problema?  \n",
    "3.1 Apresente métricas de desempenho compatíveis para a avaliação do problema (liste-as)  \n",
    "3.2 Escolha uma das métricas apresentadas para ser utilizada como referência pela equipe"
   ]
  },
  {
   "cell_type": "markdown",
   "metadata": {
    "id": "gTiIakU1qLCO"
   },
   "source": [
    "### 1. Baseando-se nos fundamentos de visualização de dados abordados na disciplina, plote cada um dos atributos preditores de maneira a enfatizar a sua distribuição, tendência central e dispersão"
   ]
  },
  {
   "cell_type": "code",
   "execution_count": null,
   "metadata": {
    "colab": {
     "base_uri": "https://localhost:8080/",
     "height": 1000
    },
    "id": "AGEoeLTiqLCO",
    "outputId": "07baae71-cbd2-4be7-db83-025581c4fcc4",
    "scrolled": false
   },
   "outputs": [],
   "source": [
    "# Informações do dataframe.\n",
    "# Ele conta quantas instâncias tem pra cada valor e pega eles\n",
    "n_elevation = df.groupby([\"Elevation\"]).count().iloc[:, 0]\n",
    "n_aspect = df.groupby([\"Aspect\"]).count().iloc[:, 0]\n",
    "n_slope = df.groupby([\"Slope\"]).count().iloc[:, 0]\n",
    "n_road = df.groupby([\"Horizontal_Distance_To_Roadways\"]).count().iloc[:, 0]\n",
    "n_fire = df.groupby([\"Horizontal_Distance_To_Fire_Points\"]).count().iloc[:, 0]\n",
    "\n",
    "# Informações estatísticos\n",
    "dados_elevation = df.sort_values([\"Elevation\"])[\"Elevation\"]\n",
    "dados_aspect = df.sort_values([\"Aspect\"])[\"Aspect\"]\n",
    "dados_slope = df.sort_values([\"Slope\"])[\"Slope\"]\n",
    "dados_road = df.sort_values([\"Horizontal_Distance_To_Roadways\"])[\"Horizontal_Distance_To_Roadways\"]\n",
    "dados_fire = df.sort_values([\"Horizontal_Distance_To_Fire_Points\"])[\"Horizontal_Distance_To_Fire_Points\"]\n",
    "\n",
    "# Style da caixa de texto\n",
    "props = dict(boxstyle='round', facecolor='white', alpha=0.5)\n",
    "\n",
    "# Figura 1, Elevation\n",
    "plt.figure(0)\n",
    "plt.plot(n_elevation.index, n_elevation.values, color = \"blue\", linestyle = '', marker = 'o', markersize = '0.5')\n",
    "plt.xlabel(\"Elevation (Metros)\")\n",
    "plt.ylabel(\"Quantidade\")\n",
    "plt.title(\"Elevation x Quantidade\")\n",
    "plt.text(4200, 0, \n",
    "         \"Estatística da elevação: (Em metros) \\n\" +\n",
    "         \"Média: {} \\n\".format(round(np.mean(dados_elevation), 4)) +\n",
    "         \"Mediana: {} \\n\".format(round(np.median(dados_elevation), 4)) +\n",
    "         \"Variança: {} \\n\".format(round(np.var(dados_elevation), 4)) +\n",
    "         \"Desvio Padrão: {}\".format(round(np.std(dados_elevation), 4)),\n",
    "         bbox=props,\n",
    "         fontsize = 12)\n",
    "\n",
    "# Figura 2, Aspect\n",
    "plt.figure(1)\n",
    "plt.plot(n_aspect.index, n_aspect.values, color = \"blue\", linestyle = '', marker = 'o', markersize = '1')\n",
    "plt.xlabel(\"Aspect (Graus Azimuth)\")\n",
    "plt.ylabel(\"Quantidade\")\n",
    "plt.title(\"Aspect x Quantidade\")\n",
    "plt.text(420, 0, \n",
    "         \"Estatística do Aspect: (Em graus azimuth) \\n\" +\n",
    "         \"Média: {} \\n\".format(round(np.mean(dados_aspect), 4)) +\n",
    "         \"Mediana: {} \\n\".format(round(np.median(dados_aspect), 4)) +\n",
    "         \"Variança: {} \\n\".format(round(np.var(dados_aspect), 4)) +\n",
    "         \"Desvio Padrão: {}\".format(round(np.std(dados_aspect), 4)),\n",
    "         bbox=props,\n",
    "         fontsize = 12)\n",
    "\n",
    "# Figura 3, Slope\n",
    "plt.figure(2)\n",
    "plt.plot(n_slope.index, n_slope.values, color = \"blue\", linestyle = '', marker = 'o', markersize = '1')\n",
    "plt.xlabel(\"Slope (Graus)\")\n",
    "plt.ylabel(\"Quantidade\")\n",
    "plt.title(\"Slope x Quantidade\")\n",
    "plt.text(76, 0, \n",
    "         \"Estatística do Slope: (Em graus) \\n\" +\n",
    "         \"Média: {} \\n\".format(round(np.mean(dados_slope), 4)) +\n",
    "         \"Mediana: {} \\n\".format(round(np.median(dados_slope), 4)) +\n",
    "         \"Variança: {} \\n\".format(round(np.var(dados_slope), 4)) +\n",
    "         \"Desvio Padrão: {}\".format(round(np.std(dados_slope), 4)),\n",
    "         bbox=props,\n",
    "         fontsize = 12)\n",
    "\n",
    "# Figura 4, Distance to Road\n",
    "plt.figure(3)\n",
    "plt.plot(n_road.index, n_road.values, color = \"blue\", linestyle = '', marker = 'o', markersize = '0.5')\n",
    "plt.xlabel(\"Distancia até uma estrada (Metros)\")\n",
    "plt.ylabel(\"Quantidade\")\n",
    "plt.title(\"Distancia até uma estrada x Quantidade\")\n",
    "plt.text(8200, 0, \n",
    "         \"Estatística da distancia à estrada: (Em metros) \\n\" +\n",
    "         \"Média: {} \\n\".format(round(np.mean(dados_road), 4)) +\n",
    "         \"Mediana: {} \\n\".format(round(np.median(dados_road), 4)) +\n",
    "         \"Variança: {} \\n\".format(round(np.var(dados_road), 4)) +\n",
    "         \"Desvio Padrão: {}\".format(round(np.std(dados_road), 4)),\n",
    "         bbox=props,\n",
    "         fontsize = 12)\n",
    "\n",
    "# Figura 5, Distance to Fire\n",
    "plt.figure(4)\n",
    "plt.plot(n_fire.index, n_fire.values, color = \"blue\", linestyle = '', marker = 'o', markersize = '0.5')\n",
    "plt.xlabel(\"Distancia ao fogo (Metros)\")\n",
    "plt.ylabel(\"Quantidade\")\n",
    "plt.title(\"Distancia ao fogo x Quantidade\")\n",
    "plt.text(8200, 0, \n",
    "         \"Estatística da Distancia ao fogo: (Em metros) \\n\" +\n",
    "         \"Média: {} \\n\".format(round(np.mean(dados_fire), 4)) +\n",
    "         \"Mediana: {} \\n\".format(round(np.median(dados_fire), 4)) +\n",
    "         \"Variança: {} \\n\".format(round(np.var(dados_fire), 4)) +\n",
    "         \"Desvio Padrão: {}\".format(round(np.std(dados_fire), 4)),\n",
    "         bbox=props,\n",
    "         fontsize = 12)"
   ]
  },
  {
   "cell_type": "code",
   "execution_count": null,
   "metadata": {
    "colab": {
     "base_uri": "https://localhost:8080/",
     "height": 361
    },
    "id": "nIC5u_eFqLCS",
    "outputId": "9aedfd1b-7b23-41d7-aa48-61c9f871a2ed"
   },
   "outputs": [],
   "source": [
    "# Calculos estatisticos\n",
    "\n",
    "# criacao do numpy array para auxiliar o calculo\n",
    "HorizontalHidrografia = np.array(df[\"Horizontal_Distance_To_Hydrology\"].values)\n",
    "VerticalHidrografia = np.array(df[\"Vertical_Distance_To_Hydrology\"].values)\n",
    "\n",
    "# Ordenacao dos vetores\n",
    "HorizontalHidrografia.sort()\n",
    "VerticalHidrografia.sort()\n",
    "\n",
    "# Calculo da media\n",
    "mediaHorizontalHidrografia = round(np.mean(HorizontalHidrografia), 4)\n",
    "mediaVerticalHidrografia = round(np.mean(VerticalHidrografia), 4)\n",
    "\n",
    "# Calculo do desvio padrao\n",
    "desvioHorizontalHidrografia = round(np.std(HorizontalHidrografia), 4)\n",
    "desvioVerticalHidrografia = round(np.std(VerticalHidrografia), 4)\n",
    "\n",
    "# Calculo da variancia\n",
    "varianciaHorizontalHidrografia = round(np.var(HorizontalHidrografia), 4)\n",
    "varianciaVerticalHidrografia = round(np.var(VerticalHidrografia), 4)\n",
    "\n",
    "# Calculo da mediana\n",
    "medianaHorizontalHidrografia = round(np.median(HorizontalHidrografia), 4)\n",
    "medianaVerticalHidrografia = round(np.median(VerticalHidrografia), 4)\n",
    "\n",
    "\n",
    "# Plot dos graficos para o atributo Distance_To_Hydrology (Vertical e Horizontal)\n",
    "f_hydro = plt.figure(figsize=(16,3))\n",
    "\n",
    "# Plot do grafico scatter para a distancia real (horizontal e vertical) para hidrografia\n",
    "dfHidrografiaX = df[\"Horizontal_Distance_To_Hydrology\"]\n",
    "dfHidrografiaY = df[\"Vertical_Distance_To_Hydrology\"]\n",
    "\n",
    "bx1 = f_hydro.add_subplot(131)\n",
    "bx2 = f_hydro.add_subplot(132)\n",
    "bx3 = f_hydro.add_subplot(133)\n",
    "\n",
    "\n",
    "bx1.set_title(\"Horizontal x vertical (distance to hydrology)\")\n",
    "bx1.set_xlabel(\"Horizontal distance to hydrology\")\n",
    "bx1.set_ylabel(\"Vertical distance to hydrology\")\n",
    "bx1.scatter(dfHidrografiaX, dfHidrografiaY, s=0.1, marker=\"o\", c=\"blue\", label = \"Distancia para Hidrografia\")\n",
    "\n",
    "# Plot do grafico para a distancia horizontal para hidrografia\n",
    "\n",
    "dfHidrografiaH = df.groupby([\"Horizontal_Distance_To_Hydrology\"]).count()\n",
    "dfHidrografiaH = dfHidrografiaH[\"Elevation\"]\n",
    "x = dfHidrografiaH.index\n",
    "y = dfHidrografiaH.values\n",
    "bx2.set_title(\"Horizontal distance x Quantidade (Em metros)\")\n",
    "bx2.set_xlabel(\"Horizontal distance to hydrology (Em metros)\")\n",
    "bx2.set_ylabel(\"Quantidade\")\n",
    "bx2.plot(x, y,linestyle=\"\", marker=\"o\", markersize=\"1.5\")\n",
    "\n",
    "# Plot do grafico para a distancia Vertical para hidrografia\n",
    "\n",
    "dfHidrografiaV = df.groupby([\"Vertical_Distance_To_Hydrology\"]).count()\n",
    "dfHidrografiaV = dfHidrografiaV[\"Elevation\"]\n",
    "x = dfHidrografiaV.index\n",
    "y = dfHidrografiaV.values\n",
    "bx3.set_title(\"Vertical distance x Quantidade (Em metros)\")\n",
    "bx3.set_xlabel(\"Vertical distance to hydrology (Em metros)\")\n",
    "bx3.set_ylabel(\"Quantidade\")\n",
    "bx3.plot(x, y,linestyle=\"\", marker=\"o\", markersize=\"1.5\")\n",
    "\n",
    "# plt.rcParams[\"figure.figsize\"] = (50, 16)\n",
    "\n",
    "props = dict(boxstyle='round', facecolor='white', alpha=0.5)\n",
    "\n",
    "# Plot dA legenda com os dados estatisticos\n",
    "plt.text(-1300, -36000, \n",
    "         \"Estatística do Horizontal_Distance_To_Hydrology: (Em metros) \\n\" +\n",
    "         \"Média: {} \\n\".format(mediaHorizontalHidrografia) +\n",
    "         \"Mediana: {} \\n\".format(medianaHorizontalHidrografia) +\n",
    "         \"Variança: {} \\n\".format(varianciaHorizontalHidrografia) +\n",
    "         \"Desvio Padrão: {}\".format(desvioHorizontalHidrografia),\n",
    "         bbox=props,\n",
    "         fontsize = 12)\n",
    "\n",
    "# Plot dA legenda com os dados estatisticos\n",
    "plt.text(-200, -36000, \n",
    "         \"Estatística do Vertical_Distance_To_Hydrology: (Em metros) \\n\" +\n",
    "         \"Média: {} \\n\".format(mediaVerticalHidrografia) +\n",
    "         \"Mediana: {} \\n\".format(medianaVerticalHidrografia) +\n",
    "         \"Variança: {} \\n\".format(varianciaVerticalHidrografia) +\n",
    "         \"Desvio Padrão: {}\".format(desvioVerticalHidrografia),\n",
    "         bbox=props,\n",
    "         fontsize = 12)"
   ]
  },
  {
   "cell_type": "code",
   "execution_count": null,
   "metadata": {
    "colab": {
     "base_uri": "https://localhost:8080/",
     "height": 368
    },
    "id": "wXGcJksDqLCU",
    "outputId": "d9f2916f-eb1f-4018-957a-9616b9e5b797",
    "scrolled": false
   },
   "outputs": [],
   "source": [
    "# Style da caixa de texto\n",
    "props = dict(boxstyle='round', facecolor='white', alpha=0.5)\n",
    "\n",
    "# Informações do dataframe.\n",
    "# Ele conta quantas instâncias tem pra cada valor e pega eles\n",
    "n_hillshade9 = df.groupby([\"Hillshade_9am\"]).count().iloc[:, 0]\n",
    "n_hillshade12 = df.groupby([\"Hillshade_Noon\"]).count().iloc[:, 0]\n",
    "n_hillshade3 = df.groupby([\"Hillshade_3pm\"]).count().iloc[:, 0]\n",
    "\n",
    "\n",
    "# Informações estatísticos\n",
    "dados_hillshade9 = df.sort_values([\"Hillshade_9am\"])[\"Hillshade_9am\"]\n",
    "dados_hillshade12 = df.sort_values([\"Hillshade_Noon\"])[\"Hillshade_Noon\"]\n",
    "dados_hillshade3 = df.sort_values([\"Hillshade_3pm\"])[\"Hillshade_3pm\"]\n",
    "\n",
    "\n",
    "# Tamanho do gráfico\n",
    "f = plt.figure(figsize=(16,3))\n",
    "\n",
    "# Dividir em subplots\n",
    "ax1 = f.add_subplot(131)\n",
    "ax2 = f.add_subplot(132)\n",
    "ax3 = f.add_subplot(133)\n",
    "\n",
    "# Gráfico 1, Hillshade 9 am\n",
    "ax1.plot(n_hillshade9.index, n_hillshade9.values, color = \"blue\", linestyle = '', marker = 'o', markersize = '1')\n",
    "ax1.set_xlabel(\"Hillshade_9am\")\n",
    "ax1.set_ylabel(\"Quantidade\")\n",
    "ax1.set_title(\"Hillshade_9am x Quantidade\")\n",
    "ax1.text(0, -11400, \n",
    "         \"Estatística do Hillshade Noon (Meio dia): \\n\" +\n",
    "         \"Média: {} \\n\".format(round(np.mean(dados_hillshade9), 4)) +\n",
    "         \"Mediana: {} \\n\".format(round(np.median(dados_hillshade9), 4)) +\n",
    "         \"Variança: {} \\n\".format(round(np.var(dados_hillshade9), 4)) +\n",
    "         \"Desvio Padrão: {}\".format(round(np.std(dados_hillshade9), 4)),\n",
    "         bbox=props,\n",
    "         fontsize = 12)\n",
    "\n",
    "# Gráfico 2, Hillshade Noon / Meio dia\n",
    "ax2.plot(n_hillshade12.index, n_hillshade12.values, color = \"blue\", linestyle = '', marker = 'o', markersize = '1')\n",
    "ax2.set_xlabel(\"Hillshade Noon\")\n",
    "ax2.set_title(\"Hillshade Noon x Quantidade\")\n",
    "ax2.text(10, -13400, \n",
    "         \"Estatística do Hillshade Noon: \\n\" +\n",
    "         \"Média: {} \\n\".format(round(np.mean(dados_hillshade12), 4)) +\n",
    "         \"Mediana: {} \\n\".format(round(np.median(dados_hillshade12), 4)) +\n",
    "         \"Variança: {} \\n\".format(round(np.var(dados_hillshade12), 4)) +\n",
    "         \"Desvio Padrão: {}\".format(round(np.std(dados_hillshade12), 4)),\n",
    "         bbox=props,\n",
    "         fontsize = 12)\n",
    "\n",
    "# Gráfico 3, Hillshade 3pm\n",
    "ax3.plot(n_hillshade3.index, n_hillshade3.values, color = \"blue\", linestyle = '', marker = 'o', markersize = '1')\n",
    "ax3.set_xlabel(\"Hillshade_3pm\")\n",
    "ax3.set_title(\"Hillshade_3pm x Quantidade\")\n",
    "ax3.text(20, -7200, \n",
    "         \"Estatística do Hillshade 3pm: \\n\" +\n",
    "         \"Média: {} \\n\".format(round(np.mean(n_hillshade3), 4)) +\n",
    "         \"Mediana: {} \\n\".format(round(np.median(n_hillshade3), 4)) +\n",
    "         \"Variança: {} \\n\".format(round(np.var(n_hillshade3), 4)) +\n",
    "         \"Desvio Padrão: {}\".format(round(np.std(n_hillshade3), 4)),\n",
    "         bbox=props,\n",
    "         fontsize = 12)"
   ]
  },
  {
   "cell_type": "code",
   "execution_count": null,
   "metadata": {
    "colab": {
     "base_uri": "https://localhost:8080/",
     "height": 423
    },
    "id": "KBZri_Z8qLCX",
    "outputId": "cc5a9776-22ce-47a3-e9c4-22ec4bab9463"
   },
   "outputs": [],
   "source": [
    "quantidadeWildernessArea = []                                                 # Criacao do vetor para armazenar as frequencias de cada Wilderness Area\n",
    "WildernessAreaName = []                                                       # Criacao do vetor para armazenar os nomes de cada Wilderness Area\n",
    "\n",
    "for i in range(4):                                                            # loop para determinar a frequencia de cada Wilderness Area\n",
    "  WildernessAreaName.append(\"Wilderness_Area\"+str(i+1))\n",
    "  WildernessArea = df.groupby([\"Wilderness_Area\"+str(i+1)]).count()\n",
    "  WildernessArea = WildernessArea[\"Elevation\"]\n",
    "  quantidadeWildernessArea.append(WildernessArea[1])\n",
    "\n",
    "f, ax = plt.subplots(figsize=(8,6))                                          # Tamanho da imagem\n",
    "    \n",
    "plt.title(\"Wilderness_Area x Quantidade\")                                     # Plot do grafico de barras\n",
    "plt.xlabel(\"Wilderness_Area\")\n",
    "plt.ylabel(\"Quantidade\")\n",
    "plt.bar(WildernessAreaName, quantidadeWildernessArea, color = \"blue\")"
   ]
  },
  {
   "cell_type": "code",
   "execution_count": null,
   "metadata": {
    "colab": {
     "base_uri": "https://localhost:8080/",
     "height": 421
    },
    "id": "DC09If1yqLCZ",
    "outputId": "0f78f318-3642-4b83-b044-a8cc7403a44f"
   },
   "outputs": [],
   "source": [
    "quantidadeSoilType = []                                     # Criacao do vetor para armazenar as frequencias de cada soil type\n",
    "soilTypeName = []                                           # Criacao do vetor para armazenar os nomes de cada soil type\n",
    "\n",
    "for i in range(40):                                         # loop para determinar a frequencia de cada tipo de solo\n",
    "  soilTypeName.append(str(i+1))\n",
    "  soilType = df.groupby([\"Soil_Type\"+str(i+1)]).count()\n",
    "  soilType = soilType[\"Elevation\"]\n",
    "  quantidadeSoilType.append(soilType[1])\n",
    "\n",
    "f, ax = plt.subplots(figsize=(16,6))                         # Tamanho da imagem\n",
    "    \n",
    "plt.title(\"Soil Type x Quantidade\")                          # Plot do grafico de barras\n",
    "plt.xlabel(\"Soil Type\")\n",
    "plt.ylabel(\"Quantidade\")\n",
    "plt.bar(soilTypeName, quantidadeSoilType,  color=\"blue\")"
   ]
  },
  {
   "cell_type": "markdown",
   "metadata": {
    "id": "K82MFs7QqLCc"
   },
   "source": [
    "### 2. A partir da visualização elaborada, o que pode-se dizer a respeito do balanceamento do atributo-alvo?\n",
    "Pode-se dizer que a distribuição de *cover_type*, que é o atributo alvo desse *DataFrame*, é bem **desbalanceado** por conta de seus atributos preditores serem **desbalanceados** valendo citar que os mairoes desbalanceamentos escontram-se nos atributos `SoilType` e `Wilderness_Area`.  \n",
    "\n",
    "Pelo gráfico acima, é possível perceber que existem muito mais exemplos dos *soil_type* 29, 23, 32 e 33, e as demais quantidades de *soil_type* é significantemente menor.  \n",
    "\n",
    "Portanto, pode-se falar que os atributos tendem para esses tipos(29, 23, 32 e 33)."
   ]
  },
  {
   "cell_type": "markdown",
   "metadata": {
    "id": "Mu01_t3-qLCc"
   },
   "source": [
    "### 3. Que tipo de tarefa de Aprendizado de Máquina é sugestiva para este problema?\n",
    "\n",
    "Como o próprio dataset indica, este é um problema de classificação.  \n",
    "\n",
    "Sendo assim, um algoritmo de classificação multiclasse é adequado para o problema, sendo eles: Árvores de Decisão, Classificação Naïve Bayes, Regressão Linear de Mínimos Quadrados, Regressão logística, Support Vector Machine.  \n",
    "\n",
    "Dentre esse algoritmos, a equipe escolheu o algoritmo de classificação Naïve Bayes que usa probabilidades para o cálculo \n",
    " P (A| B) = ( P (B|A) * P (A) ) / P (B) que serve para predizer um problema relativamente similar ao atual que é o de Classificar um artigo de notícias sobre tecnologia, política ou esportes.\n",
    "\n",
    "### 3.1 Apresente métricas de desempenho compatíveis para a avaliação do problema (liste-as)\n",
    "\n",
    "Existem 4 métricas para medir o desempenho do problema de classificação.  \n",
    "\n",
    "As 4 métricas seguem a tabela da **matriz de confusão**, que se consegue depois da máquina ter sido treinada e testada.  \n",
    "\n",
    "A matriz de confusão descreve se as respostas positivas e negativas são válidas ou não, ela pode ser traduzida para uma matriz de 3 classes ou mais, mas a matriz abaixo é a binária, apenas para explicar.\n",
    "\n",
    "| Matriz de Confusão | Verdadeiro | Falso |\n",
    "| :- | :- | :-: |\n",
    "| Positivo | Verdadeiro Positivo | Falso Positivo |\n",
    "| Negativo | Verdadeiro Negativo | Falso Negativo |\n",
    "\n",
    "Essas 4 métricas são:  \n",
    "\n",
    "1. **Acurária**  \n",
    "\n",
    "A acurácia é, dentre o **Verdadeiro positivo e verdadeiro negativo**, os acertos divididos pela quantidade total.  \n",
    "\n",
    "$Precisao = \\frac{VP + VN}{Total}$\n",
    "\n",
    "Com isso, a acurácia indica se houve uma boa quantidade de respostas válidas do total.\n",
    "\n",
    "\n",
    "2. **Precisão**  \n",
    "\n",
    "A precisão é, dentre o **Verdadeiro positivo e falso positivo**, a quantidade de positivos divididos pela quantidade total.\n",
    "\n",
    "$Precisao = \\frac{VP}{VP + FP}$\n",
    "\n",
    "A precisão indica a porcentagem de respostas válidas dentro das respostas positivas.\n",
    "\n",
    "3. **Recall**  \n",
    "\n",
    "O recall é, dentre o **Verdadeiro positivo e falso negativo**, a quantidade de positivos divido pela soma dos dois.\n",
    "\n",
    "$Precisao = \\frac{VP}{VP + FN}$\n",
    "\n",
    "O recall indica acertos válidos preditos pelo modelo, a porcentagem de respostas corretas.\n",
    "\n",
    "\n",
    "4. **F1 Score**  \n",
    "\n",
    "Já o F1 Score é um pouco diferente.  \n",
    "\n",
    "Ao invés de se basear na matriz de confusão, o F1Score é a média harmônica entre a precisão e o Recall.  \n",
    "Ele é usado para indicar como está o estado do modelo, em conjunto com a acurácia.\n",
    "\n",
    "A acurária é usado para indicar a quantidade de acertos.\n",
    "Porém, o F1Score indica quais os impactos dos falsos positivos e falsos negativos dentro domodelo.\n",
    "\n",
    "\n",
    "\n",
    "### 3.2 Escolha uma das métricas apresentadas para ser utilizada como referência pela equipe\n",
    "Com relação as métricas de avaliação de modelos, pode-se dizer que para essa base de dados não seria indicado usar a **acurácia** pois os dados não se encontram igualmente dispersos entre si.  \n",
    "\n",
    "A técnica de **precisão** também não é muito indicada, pois ela leva em consideração os falsos positivos pois trata-se de classificar um resultado de maneira precisa, sendo assim a principal utilização dessa métrica é para modelos onde é preciso minimizar os falsos positivos.  \n",
    "\n",
    "A técnica **recall** é usada para obter os acertos do modelo, ou seja os falsos negativos e os verdadeiros positivos, sendo assim essa métrica por si só não é diretamente vinculada a classificar todos os casos corretamente.  \n",
    "\n",
    "Com isso a equipe resolveu escolher a métrica de avaliação **F1 Score** pois embora seja a menos intuitiva ela é capaz de combinar as métricas precisão e recall e também, no geral, essa metrica é melhor que acurácia principalmente onde falsos positivos e falsos negativos possuem impactos diferentes em um modelo."
   ]
  }
 ],
 "metadata": {
  "colab": {
   "collapsed_sections": [],
   "name": "PP3.2 - Conhecendo o Conjunto de Dados.ipynb",
   "provenance": []
  },
  "kernelspec": {
   "display_name": "Python 3",
   "language": "python",
   "name": "python3"
  },
  "language_info": {
   "codemirror_mode": {
    "name": "ipython",
    "version": 3
   },
   "file_extension": ".py",
   "mimetype": "text/x-python",
   "name": "python",
   "nbconvert_exporter": "python",
   "pygments_lexer": "ipython3",
   "version": "3.8.3"
  }
 },
 "nbformat": 4,
 "nbformat_minor": 1
}
