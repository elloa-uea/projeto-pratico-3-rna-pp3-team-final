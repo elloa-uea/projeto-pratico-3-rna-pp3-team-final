{
 "cells": [
  {
   "cell_type": "markdown",
   "metadata": {
    "id": "RvuOdKrlRwHw"
   },
   "source": [
    "## Redes Neurais Artificiais 2020.1\n",
    "\n",
    "**Disciplina**: Redes Neurais Artificiais 2020.1  \n",
    "**Professora**: Elloá B. Guedes (ebgcosta@uea.edu.br)  \n",
    "**Github**: http://github.com/elloa  \n",
    "\n",
    "### Explorando uma base de dados\n",
    "\n",
    "Nesta atividade prática iremos explorar a seguinte base de dados **_Forest Cover Type_**\n",
    "\n",
    "1. Obtenha esta base de dados no seguinte link: https://www.kaggle.com/uciml/forest-cover-type-dataset/download\n",
    "2. Consulte a documentação oficial da base de dados: https://archive.ics.uci.edu/ml/datasets/covertype\n",
    "3. **Responda**:  \n",
    "  3.1 O que é cada exemplo na base de dados?  \n",
    "  3.2 Em que ano ela foi obtida?  \n",
    "  3.3 Quem foram os responsáveis pela criação desta base de dados?  "
   ]
  },
  {
   "cell_type": "markdown",
   "metadata": {
    "id": "8g7AoYbddgT_"
   },
   "source": [
    "### 1. O que é cada exemplo na base de dados?\n",
    "\n",
    "O tipo real de cobertura florestal para uma determinada observação (célula de 30 x 30 metros) "
   ]
  },
  {
   "cell_type": "markdown",
   "metadata": {
    "id": "9nWSl9OnfFnW"
   },
   "source": [
    "###  2. Em que ano ela foi obtida?\n",
    "\n",
    "1998 "
   ]
  },
  {
   "cell_type": "markdown",
   "metadata": {
    "id": "rmTM8CzkfP8n"
   },
   "source": [
    "### 3. Quem foram os responsáveis pela criação desta base de dados?\n",
    "* Jock A. Blackard COORDENADOR DO GIS USFS - Forest Inventory & Analysis Rocky Mountain Research Station\n",
    "* Dr. Denis J. Dean Professor Program in Geography and Geospatial Sciences School of Economic, Political and Policy Sciences\n",
    "* Dr. Charles W. Anderson Associate Professor Department of Computer Science Colorado State University"
   ]
  },
  {
   "cell_type": "markdown",
   "metadata": {
    "id": "_mFC2MiLRwH2"
   },
   "source": [
    "### Manipulando a base de dados\n",
    "\n",
    "1. Abra a base de dados com o pandas\n",
    "2. Imprima os 10 primeiros exemplos pertencentes à esta base\n",
    "3. Imprima os 10 últimos exemplos pertencentes à esta base\n",
    "4. Quantos exemplos esta base de dados possui?\n",
    "5. Quais são os atributos que a base de dados possui e quais seus tipos?\n",
    "6. Há algum dado faltante na base?\n",
    "7. De acordo com a documentação da base de dados, qual o significado dos atributos do tipo \"Soil Type\"?  \n",
    "  7.1 Este atributo é quantitativo ou qualitativo?  \n",
    "  7.2 Qual o tipo de codificação utilizada para denotar este atributo? Consulte a seguinte referência:  \n",
    "  * https://pbpython.com/categorical-encoding.html"
   ]
  },
  {
   "cell_type": "code",
   "execution_count": 1,
   "metadata": {
    "id": "nEeKN1B8RwHx"
   },
   "outputs": [],
   "source": [
    "## Reservado para a importação de bibliotecas\n",
    "\n",
    "# from google.colab import drive\n",
    "import pandas as pd\n",
    "import matplotlib.pyplot as plt\n",
    "# import plotly.offline as py\n",
    "# import plotly.graph_objects as go\n",
    "import math"
   ]
  },
  {
   "cell_type": "code",
   "execution_count": 2,
   "metadata": {
    "colab": {
     "base_uri": "https://localhost:8080/",
     "height": 34
    },
    "id": "O2mpGqzbST9R",
    "outputId": "c08a4243-d86c-48d5-b2b8-624f8a86aa99"
   },
   "outputs": [],
   "source": [
    "# Montagem do drive para o carregamento da base de dados por meio do google colab\n",
    "#drive.mount('/content/drive/')"
   ]
  },
  {
   "cell_type": "code",
   "execution_count": 3,
   "metadata": {
    "id": "QqM98CHvSUsQ"
   },
   "outputs": [],
   "source": [
    "# Leitura do dataset covtype.csv\n",
    "\n",
    "# df = pd.read_csv('/content/drive/My Drive/Colab Notebooks/covtype.csv', sep=',') #caso use colab\n",
    "\n",
    "df = pd.read_csv('./covtype.csv') #caso faça localmente\n"
   ]
  },
  {
   "cell_type": "code",
   "execution_count": 4,
   "metadata": {
    "colab": {
     "base_uri": "https://localhost:8080/",
     "height": 238
    },
    "id": "jW3vF1CzRwH2",
    "outputId": "92c8d138-a935-4d64-e766-e5fe24ac4cbf"
   },
   "outputs": [
    {
     "name": "stdout",
     "output_type": "stream",
     "text": [
      "   Elevation  Aspect  Slope  Horizontal_Distance_To_Hydrology  \\\n",
      "0       2596      51      3                               258   \n",
      "1       2590      56      2                               212   \n",
      "2       2804     139      9                               268   \n",
      "3       2785     155     18                               242   \n",
      "4       2595      45      2                               153   \n",
      "5       2579     132      6                               300   \n",
      "6       2606      45      7                               270   \n",
      "7       2605      49      4                               234   \n",
      "8       2617      45      9                               240   \n",
      "9       2612      59     10                               247   \n",
      "\n",
      "   Vertical_Distance_To_Hydrology  Horizontal_Distance_To_Roadways  \\\n",
      "0                               0                              510   \n",
      "1                              -6                              390   \n",
      "2                              65                             3180   \n",
      "3                             118                             3090   \n",
      "4                              -1                              391   \n",
      "5                             -15                               67   \n",
      "6                               5                              633   \n",
      "7                               7                              573   \n",
      "8                              56                              666   \n",
      "9                              11                              636   \n",
      "\n",
      "   Hillshade_9am  Hillshade_Noon  Hillshade_3pm  \\\n",
      "0            221             232            148   \n",
      "1            220             235            151   \n",
      "2            234             238            135   \n",
      "3            238             238            122   \n",
      "4            220             234            150   \n",
      "5            230             237            140   \n",
      "6            222             225            138   \n",
      "7            222             230            144   \n",
      "8            223             221            133   \n",
      "9            228             219            124   \n",
      "\n",
      "   Horizontal_Distance_To_Fire_Points  ...  Soil_Type32  Soil_Type33  \\\n",
      "0                                6279  ...            0            0   \n",
      "1                                6225  ...            0            0   \n",
      "2                                6121  ...            0            0   \n",
      "3                                6211  ...            0            0   \n",
      "4                                6172  ...            0            0   \n",
      "5                                6031  ...            0            0   \n",
      "6                                6256  ...            0            0   \n",
      "7                                6228  ...            0            0   \n",
      "8                                6244  ...            0            0   \n",
      "9                                6230  ...            0            0   \n",
      "\n",
      "   Soil_Type34  Soil_Type35  Soil_Type36  Soil_Type37  Soil_Type38  \\\n",
      "0            0            0            0            0            0   \n",
      "1            0            0            0            0            0   \n",
      "2            0            0            0            0            0   \n",
      "3            0            0            0            0            0   \n",
      "4            0            0            0            0            0   \n",
      "5            0            0            0            0            0   \n",
      "6            0            0            0            0            0   \n",
      "7            0            0            0            0            0   \n",
      "8            0            0            0            0            0   \n",
      "9            0            0            0            0            0   \n",
      "\n",
      "   Soil_Type39  Soil_Type40  Cover_Type  \n",
      "0            0            0           5  \n",
      "1            0            0           5  \n",
      "2            0            0           2  \n",
      "3            0            0           2  \n",
      "4            0            0           5  \n",
      "5            0            0           2  \n",
      "6            0            0           5  \n",
      "7            0            0           5  \n",
      "8            0            0           5  \n",
      "9            0            0           5  \n",
      "\n",
      "[10 rows x 55 columns]\n"
     ]
    }
   ],
   "source": [
    "# Impressao dos 10 primeiros elementos do dataset\n",
    "\n",
    "print(df.head(10))"
   ]
  },
  {
   "cell_type": "code",
   "execution_count": 5,
   "metadata": {
    "colab": {
     "base_uri": "https://localhost:8080/",
     "height": 238
    },
    "id": "hpOSS__GRwH4",
    "outputId": "3d1ffccf-84e3-4046-a2d6-775059ac2c4c"
   },
   "outputs": [
    {
     "name": "stdout",
     "output_type": "stream",
     "text": [
      "        Elevation  Aspect  Slope  Horizontal_Distance_To_Hydrology  \\\n",
      "581002       2419     168     25                               108   \n",
      "581003       2415     161     25                                95   \n",
      "581004       2410     158     24                                90   \n",
      "581005       2405     159     22                                90   \n",
      "581006       2401     157     21                                90   \n",
      "581007       2396     153     20                                85   \n",
      "581008       2391     152     19                                67   \n",
      "581009       2386     159     17                                60   \n",
      "581010       2384     170     15                                60   \n",
      "581011       2383     165     13                                60   \n",
      "\n",
      "        Vertical_Distance_To_Hydrology  Horizontal_Distance_To_Roadways  \\\n",
      "581002                              33                              124   \n",
      "581003                              29                              120   \n",
      "581004                              24                              120   \n",
      "581005                              19                              120   \n",
      "581006                              15                              120   \n",
      "581007                              17                              108   \n",
      "581008                              12                               95   \n",
      "581009                               7                               90   \n",
      "581010                               5                               90   \n",
      "581011                               4                               67   \n",
      "\n",
      "        Hillshade_9am  Hillshade_Noon  Hillshade_3pm  \\\n",
      "581002            230             240            126   \n",
      "581003            236             237            116   \n",
      "581004            238             236            115   \n",
      "581005            237             238            119   \n",
      "581006            238             238            119   \n",
      "581007            240             237            118   \n",
      "581008            240             237            119   \n",
      "581009            236             241            130   \n",
      "581010            230             245            143   \n",
      "581011            231             244            141   \n",
      "\n",
      "        Horizontal_Distance_To_Fire_Points  ...  Soil_Type32  Soil_Type33  \\\n",
      "581002                                 812  ...            0            0   \n",
      "581003                                 815  ...            0            0   \n",
      "581004                                 819  ...            0            0   \n",
      "581005                                 824  ...            0            0   \n",
      "581006                                 830  ...            0            0   \n",
      "581007                                 837  ...            0            0   \n",
      "581008                                 845  ...            0            0   \n",
      "581009                                 854  ...            0            0   \n",
      "581010                                 864  ...            0            0   \n",
      "581011                                 875  ...            0            0   \n",
      "\n",
      "        Soil_Type34  Soil_Type35  Soil_Type36  Soil_Type37  Soil_Type38  \\\n",
      "581002            0            0            0            0            0   \n",
      "581003            0            0            0            0            0   \n",
      "581004            0            0            0            0            0   \n",
      "581005            0            0            0            0            0   \n",
      "581006            0            0            0            0            0   \n",
      "581007            0            0            0            0            0   \n",
      "581008            0            0            0            0            0   \n",
      "581009            0            0            0            0            0   \n",
      "581010            0            0            0            0            0   \n",
      "581011            0            0            0            0            0   \n",
      "\n",
      "        Soil_Type39  Soil_Type40  Cover_Type  \n",
      "581002            0            0           3  \n",
      "581003            0            0           3  \n",
      "581004            0            0           3  \n",
      "581005            0            0           3  \n",
      "581006            0            0           3  \n",
      "581007            0            0           3  \n",
      "581008            0            0           3  \n",
      "581009            0            0           3  \n",
      "581010            0            0           3  \n",
      "581011            0            0           3  \n",
      "\n",
      "[10 rows x 55 columns]\n"
     ]
    }
   ],
   "source": [
    "# Impressao dos 10 ultimos elementos do dataset\n",
    "\n",
    "print(df.tail(10))"
   ]
  },
  {
   "cell_type": "code",
   "execution_count": 6,
   "metadata": {
    "colab": {
     "base_uri": "https://localhost:8080/",
     "height": 34
    },
    "id": "UIzUd2agRwH6",
    "outputId": "7fb1d93e-bbbc-47d0-adc2-1d24a3df3577"
   },
   "outputs": [
    {
     "name": "stdout",
     "output_type": "stream",
     "text": [
      "Esta base de dados possui exatamente 581012 exemplos brutos.\n"
     ]
    }
   ],
   "source": [
    "print(\"Esta base de dados possui exatamente {} exemplos brutos.\".format(len(df)))"
   ]
  },
  {
   "cell_type": "code",
   "execution_count": 7,
   "metadata": {
    "colab": {
     "base_uri": "https://localhost:8080/",
     "height": 969
    },
    "id": "8pfJYS1JRwH8",
    "outputId": "fa0f3c24-80e7-4206-a532-068583eb34b5"
   },
   "outputs": [
    {
     "name": "stdout",
     "output_type": "stream",
     "text": [
      "Elevation                             int64\n",
      "Aspect                                int64\n",
      "Slope                                 int64\n",
      "Horizontal_Distance_To_Hydrology      int64\n",
      "Vertical_Distance_To_Hydrology        int64\n",
      "Horizontal_Distance_To_Roadways       int64\n",
      "Hillshade_9am                         int64\n",
      "Hillshade_Noon                        int64\n",
      "Hillshade_3pm                         int64\n",
      "Horizontal_Distance_To_Fire_Points    int64\n",
      "Wilderness_Area1                      int64\n",
      "Wilderness_Area2                      int64\n",
      "Wilderness_Area3                      int64\n",
      "Wilderness_Area4                      int64\n",
      "Soil_Type1                            int64\n",
      "Soil_Type2                            int64\n",
      "Soil_Type3                            int64\n",
      "Soil_Type4                            int64\n",
      "Soil_Type5                            int64\n",
      "Soil_Type6                            int64\n",
      "Soil_Type7                            int64\n",
      "Soil_Type8                            int64\n",
      "Soil_Type9                            int64\n",
      "Soil_Type10                           int64\n",
      "Soil_Type11                           int64\n",
      "Soil_Type12                           int64\n",
      "Soil_Type13                           int64\n",
      "Soil_Type14                           int64\n",
      "Soil_Type15                           int64\n",
      "Soil_Type16                           int64\n",
      "Soil_Type17                           int64\n",
      "Soil_Type18                           int64\n",
      "Soil_Type19                           int64\n",
      "Soil_Type20                           int64\n",
      "Soil_Type21                           int64\n",
      "Soil_Type22                           int64\n",
      "Soil_Type23                           int64\n",
      "Soil_Type24                           int64\n",
      "Soil_Type25                           int64\n",
      "Soil_Type26                           int64\n",
      "Soil_Type27                           int64\n",
      "Soil_Type28                           int64\n",
      "Soil_Type29                           int64\n",
      "Soil_Type30                           int64\n",
      "Soil_Type31                           int64\n",
      "Soil_Type32                           int64\n",
      "Soil_Type33                           int64\n",
      "Soil_Type34                           int64\n",
      "Soil_Type35                           int64\n",
      "Soil_Type36                           int64\n",
      "Soil_Type37                           int64\n",
      "Soil_Type38                           int64\n",
      "Soil_Type39                           int64\n",
      "Soil_Type40                           int64\n",
      "Cover_Type                            int64\n",
      "dtype: object\n"
     ]
    }
   ],
   "source": [
    "# Verificação dos atributos da base de dados e seus respectivos tipos\n",
    "\n",
    "print(df.dtypes)"
   ]
  },
  {
   "cell_type": "code",
   "execution_count": 8,
   "metadata": {
    "colab": {
     "base_uri": "https://localhost:8080/",
     "height": 34
    },
    "id": "SolpvSOmZqon",
    "outputId": "551e8000-1b86-444e-e152-088bf9a53afe"
   },
   "outputs": [
    {
     "name": "stdout",
     "output_type": "stream",
     "text": [
      "Não há dados faltantes da base de dados\n"
     ]
    }
   ],
   "source": [
    "# Verificacao da existencia de dados faltantes\n",
    "\n",
    "print(\"Há {} dados faltantes na base de dados\".format(len(df) - len(df.dropna())) \n",
    "      if len(df) != len(df.dropna()) else \n",
    "      \"Não há dados faltantes da base de dados\")"
   ]
  },
  {
   "cell_type": "markdown",
   "metadata": {
    "id": "o_k-MNVkc4Bp"
   },
   "source": [
    "De acordo com a base de dados, o atributo `Soil_Type` significa a designação do tipo de solo.  \n",
    "Sendo ele um **atributo qualitativo** binário, existem 40 atributos diferentes no dataset para identificar o tipo deste solo existente.  \n",
    "\n",
    "No dataset, o valor inteiro 0 significa a ausência e o valor inteiro 1 a presença do `Soil_type` dentro do contexto da base de dados.\n",
    "Ou seja, dentre os 40 atributos Soil_type, aquele que for existente terá seu valor igual a 1."
   ]
  },
  {
   "cell_type": "markdown",
   "metadata": {
    "id": "XJa6p-S3RwH_"
   },
   "source": [
    "### Visualizando a base de dados\n",
    "\n",
    "1. Baseando-se nos fundamentos de visualização de dados abordados na disciplina, plote cada um dos atributos preditores de maneira a enfatizar a sua distribuição, tendência central e dispersão  \n",
    "1.1 Considere que o número de columas no dataset é diferente do número de atributos, conforme discussão promovida a respeito do dataset  \n",
    "1.2 Se preferir, opte por complementar as informações visuais com medidas estatísticas  \n",
    "2. A partir da visualização elaborada, o que pode-se dizer a respeito do balanceamento do atributo-alvo?\n",
    "3. Que tipo de tarefa de Aprendizado de Máquina é sugestiva para este problema?  \n",
    "3.1 Apresente métricas de desempenho compatíveis para a avaliação do problema (liste-as)  \n",
    "3.2 Escolha uma das métricas apresentadas para ser utilizada como referência pela equipe"
   ]
  },
  {
   "cell_type": "markdown",
   "metadata": {},
   "source": [
    "### 1. Baseando-se nos fundamentos de visualização de dados abordados na disciplina, plote cada um dos atributos preditores de maneira a enfatizar a sua distribuição, tendência central e dispersão"
   ]
  },
  {
   "cell_type": "code",
   "execution_count": 104,
   "metadata": {
    "id": "-gMUXrZcRwH_"
   },
   "outputs": [
    {
     "name": "stdout",
     "output_type": "stream",
     "text": [
      "Mediana:  2.0\n",
      "Média:  2.0515\n"
     ]
    }
   ],
   "source": [
    "#Cálculo da distribuição do Cover_type\n",
    "\n",
    "index = df.groupby([\"Cover_Type\"]).count()\n",
    "attr = index.iloc[:, 0] \n",
    "\n",
    "#Cálculo da média e mediana\n",
    "\n",
    "median = df.sort_values([\"Cover_Type\"])[\"Cover_Type\"]\n",
    "\n",
    "media = 0\n",
    "for i in range(1, 8):\n",
    "    media = media + (i * attr[i])\n",
    "    \n",
    "media /= 581012\n",
    "\n",
    "print(\"Mediana: \", median.median())\n",
    "print(\"Média: \",round(media, 4))\n"
   ]
  },
  {
   "cell_type": "code",
   "execution_count": 113,
   "metadata": {},
   "outputs": [
    {
     "data": {
      "text/plain": [
       "Text(0, 0.5, 'Quantidade')"
      ]
     },
     "execution_count": 113,
     "metadata": {},
     "output_type": "execute_result"
    },
    {
     "data": {
      "image/png": "[encoded data removed]",
      "text/plain": [
       "<Figure size 432x288 with 1 Axes>"
      ]
     },
     "metadata": {
      "needs_background": "light"
     },
     "output_type": "display_data"
    }
   ],
   "source": [
    "plt.bar(attr.index, attr.values, color = \"blue\")\n",
    "plt.xlabel(\"Cover_Type\")\n",
    "plt.ylabel(\"Quantidade\")"
   ]
  },
  {
   "cell_type": "code",
   "execution_count": 110,
   "metadata": {},
   "outputs": [
    {
     "data": {
      "text/plain": [
       "<matplotlib.legend.Legend at 0x178bf82d850>"
      ]
     },
     "execution_count": 110,
     "metadata": {},
     "output_type": "execute_result"
    },
    {
     "data": {
      "image/png": "[encoded data removed]",
      "text/plain": [
       "<Figure size 432x288 with 1 Axes>"
      ]
     },
     "metadata": {
      "needs_background": "light"
     },
     "output_type": "display_data"
    }
   ],
   "source": [
    "plt.plot(attr.index, attr.values, color = \"blue\")\n",
    "plt.xlabel(\"Cover_Type\")\n",
    "plt.ylabel(\"Quantidade\")\n",
    "\n",
    "plt.axvline(x = media ,color=\"red\",linestyle=\"--\", label=\"Mediana = 2\")\n",
    "\n",
    "plt.axvline(x = median.median() ,color=\"purple\",linestyle=\"--\", label=\"Média = 2.0515\")\n",
    "\n",
    "plt.legend()"
   ]
  },
  {
   "cell_type": "markdown",
   "metadata": {},
   "source": [
    "Pode-se ver que o valor da Mediana é **2**.\n",
    "E que o valor da Média é **2.0515**.\n",
    "\n",
    "Escolheu-se a mediana, já que o atributo preditor *Cover_type* é inteiro e a mediana reflete exatamente o mesmo tipo, foi desconsiderado a média, mesmo que houvesse apenas uma pequena variação."
   ]
  },
  {
   "cell_type": "markdown",
   "metadata": {},
   "source": [
    "### 2. A partir da visualização elaborada, o que pode-se dizer a respeito do balanceamento do atributo-alvo?\n",
    "Pode-se dizer que a distribuição de *cover_type* desse *DataFrame* é bem **desbalanceado**.  \n",
    "\n",
    "Pelo gráfico acima, é possível perceber que existem muito mais exemplos dos *cover_type* 1 e 2, a quantidade de *cover_type* 3 a 7 é significantemente menor.  \n",
    "\n",
    "Portanto, pode-se falar que os atributos tendem para esses 2 tipos(1 e 2).\n"
   ]
  },
  {
   "cell_type": "markdown",
   "metadata": {},
   "source": [
    "### 3. Que tipo de tarefa de Aprendizado de Máquina é sugestiva para este problema?\n",
    "\n",
    "Como o proprio dataset indica, este é um problema de classificacao.  \n",
    "\n",
    "Sendo assim, um algoritmo de classificacao multiclasse é adequado para o problema, sendo eles: Árvores de Decisão, Classificação Naïve Bayes, Regressão Linear de Mínimos Quadrados, Regressão logística, Support Vector Machine.  \n",
    "\n",
    "Dentre esse algoritmos, a equipe escolheu o algoritmo de classificação Naïve Bayes que usa probabilidades para o cálculo \n",
    " P (A| B) = ( P (B|A) * P (A) ) / P (B) que serve para predizer um problema relativamente similar ao atual que é o de Classificar um artigo de notícias sobre tecnologia, política ou esportes.\n",
    "\n",
    "### 3.1 Apresente métricas de desempenho compatíveis para a avaliação do problema (liste-as)\n",
    "\n",
    "Existem 4 métricas para medir o desempenho do problema de classificação.  \n",
    "\n",
    "As 4 métricas seguem a tabela da **matriz de confusão**, que se consegue depois da máquina ter sido treinada e testada.  \n",
    "\n",
    "A matriz de confusão descreve se as respostas positivas e negativas são válidas ou não, ela pode ser traduzida para uma matriz de 3 classes ou mais, mas a matriz abaixo é a binária, apenas para explicar.\n",
    "\n",
    "| Matriz de Confusão | Verdadeiro | Falso |\n",
    "| :- | :- | :-: |\n",
    "| Positivo | Verdadeiro Positivo | Falso Positivo |\n",
    "| Negativo | Verdadeiro Negativo | Falso Negativo |\n",
    "\n",
    "Essas 4 métricas são:  \n",
    "\n",
    "1. **Acurária**  \n",
    "\n",
    "A acurácia é, dentre o **Verdadeiro positivo e verdadeiro negativo**, os acertos divididos pela quantidade total.  \n",
    "\n",
    "$Precisao = \\frac{VP + VN}{Total}$\n",
    "\n",
    "Com isso, a acurácia indica se houve uma boa quantidade de respostas válidas do total.\n",
    "\n",
    "\n",
    "2. **Precisão**  \n",
    "\n",
    "A precisão é, dentre o **Verdadeiro positivo e falso positivo**, a quantidade de positivos divididos pela quantidade total.\n",
    "\n",
    "$Precisao = \\frac{VP}{VP + FP}$\n",
    "\n",
    "A precisão indica a porcentagem de respostas válidas dentro das respostas positivas.\n",
    "\n",
    "3. **Recall**  \n",
    "\n",
    "O recall é, dentre o **Verdadeiro positivo e falso negativo**, a quantidade de positivos divido pela soma dos dois.\n",
    "\n",
    "$Precisao = \\frac{VP}{VP + FN}$\n",
    "\n",
    "O recall indica acertos válidos preditos pelo modelo, a porcentagem de respostas corretas.\n",
    "\n",
    "\n",
    "4. **F1 Score**  \n",
    "\n",
    "Já o F1 Score é um pouco diferente.  \n",
    "\n",
    "Ao invés de se basear na matriz de confusão, o F1Score é a média harmônica entre a precisão e o Recall.  \n",
    "Ele é usado para indicar como está o estado do modelo, em conjunto com a acurácia.\n",
    "\n",
    "A acurária é usado para indicar a quantidade de acertos.\n",
    "Porém, o F1Score indica quais os impactos dos falsos positivos e falsos negativos dentro domodelo.\n",
    "\n",
    "\n",
    "\n",
    "### 3.2 Escolha uma das métricas apresentadas para ser utilizada como referência pela equipe\n",
    "Com relação as métricas de avaliação de modelos, pode-se dizer que para essa base de dados não seria indicado usar a **acurácia** pois os dados não se encontram igualmente dispersos entre si.  \n",
    "\n",
    "A técnica de **precisão** também não é muito indicada, pois ela leva em consideração os falsos positivos pois trata-se de classificar um resultado de maneira precisa, sendo assim a principal utilização dessa métrica é para modelos onde é preciso minimizar os falsos positivos.  \n",
    "\n",
    "A técnica **recall** é usada para obter os acertos do modelo, ou seja os falsos negativos e os verdadeiros positivos, sendo assim essa métrica por si só não é diretamente vinculada a classificar todos os casos corretamente.  \n",
    "\n",
    "Com isso a equipe resolveu escolher a métrica de avaliação **F1 Score** pois embora seja a menos intuitiva ela é capaz de combinar as métricas precisão e recall e tambem no geral, essa metrica é melhor que acuracia principalmente onde falsos positivos e falsos negativos possuem impactos diferentes em um modelo.\n",
    "\n",
    "\n"
   ]
  },
  {
   "cell_type": "code",
   "execution_count": null,
   "metadata": {},
   "outputs": [],
   "source": []
  }
 ],
 "metadata": {
  "colab": {
   "collapsed_sections": [],
   "name": "PP3.2 - Conhecendo o Conjunto de Dados.ipynb",
   "provenance": []
  },
  "kernelspec": {
   "display_name": "Python 3",
   "language": "python",
   "name": "python3"
  },
  "language_info": {
   "codemirror_mode": {
    "name": "ipython",
    "version": 3
   },
   "file_extension": ".py",
   "mimetype": "text/x-python",
   "name": "python",
   "nbconvert_exporter": "python",
   "pygments_lexer": "ipython3",
   "version": "3.8.3"
  }
 },
 "nbformat": 4,
 "nbformat_minor": 1
}
