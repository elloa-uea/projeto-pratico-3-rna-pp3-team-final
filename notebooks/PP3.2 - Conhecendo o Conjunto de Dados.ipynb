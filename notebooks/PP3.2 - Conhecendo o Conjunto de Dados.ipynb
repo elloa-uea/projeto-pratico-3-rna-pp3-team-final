{
  "nbformat": 4,
  "nbformat_minor": 0,
  "metadata": {
    "kernelspec": {
      "display_name": "Python 3",
      "language": "python",
      "name": "python3"
    },
    "language_info": {
      "codemirror_mode": {
        "name": "ipython",
        "version": 3
      },
      "file_extension": ".py",
      "mimetype": "text/x-python",
      "name": "python",
      "nbconvert_exporter": "python",
      "pygments_lexer": "ipython3",
      "version": "3.8.3"
    },
    "colab": {
      "name": "PP3.2 - Conhecendo o Conjunto de Dados.ipynb",
      "provenance": [],
      "collapsed_sections": []
    }
  },
  "cells": [
    {
      "cell_type": "markdown",
      "metadata": {
        "id": "RvuOdKrlRwHw"
      },
      "source": [
        "## Redes Neurais Artificiais 2020.1\n",
        "\n",
        "**Disciplina**: Redes Neurais Artificiais 2020.1  \n",
        "**Professora**: Elloá B. Guedes (ebgcosta@uea.edu.br)  \n",
        "**Github**: http://github.com/elloa  \n",
        "\n",
        "### Explorando uma base de dados\n",
        "\n",
        "Nesta atividade prática iremos explorar a seguinte base de dados **_Forest Cover Type_**\n",
        "\n",
        "1. Obtenha esta base de dados no seguinte link: https://www.kaggle.com/uciml/forest-cover-type-dataset/download\n",
        "2. Consulte a documentação oficial da base de dados: https://archive.ics.uci.edu/ml/datasets/covertype\n",
        "3. **Responda**:  \n",
        "  3.1 O que é cada exemplo na base de dados?  \n",
        "  3.2 Em que ano ela foi obtida?  \n",
        "  3.3 Quem foram os responsáveis pela criação desta base de dados?  "
      ]
    },
    {
      "cell_type": "markdown",
      "metadata": {
        "id": "8g7AoYbddgT_"
      },
      "source": [
        "###O que é cada exemplo na base de dados?\n",
        "#### O tipo real de cobertura florestal para uma determinada observação (célula de 30 x 30 metros) "
      ]
    },
    {
      "cell_type": "markdown",
      "metadata": {
        "id": "9nWSl9OnfFnW"
      },
      "source": [
        "###  Em que ano ela foi obtida?\n",
        "#### \t1998 "
      ]
    },
    {
      "cell_type": "markdown",
      "metadata": {
        "id": "rmTM8CzkfP8n"
      },
      "source": [
        "### Quem foram os responsáveis pela criação desta base de dados?\n",
        "* Jock A. Blackard COORDENADOR DO GIS USFS - Forest Inventory & Analysis Rocky Mountain Research Station\n",
        "* Dr. Denis J. Dean Professor Program in Geography and Geospatial Sciences School of Economic, Political and Policy Sciences\n",
        "* Dr. Charles W. Anderson Associate Professor Department of Computer Science Colorado State University"
      ]
    },
    {
      "cell_type": "code",
      "metadata": {
        "id": "nEeKN1B8RwHx"
      },
      "source": [
        "## Reservado para a importação de bibliotecas\n",
        "\n",
        "from google.colab import drive\n",
        "import pandas as pd\n",
        "import matplotlib.pyplot as plt\n",
        "import plotly.offline as py\n",
        "import plotly.graph_objects as go\n",
        "import math"
      ],
      "execution_count": 1,
      "outputs": []
    },
    {
      "cell_type": "code",
      "metadata": {
        "id": "O2mpGqzbST9R",
        "outputId": "c08a4243-d86c-48d5-b2b8-624f8a86aa99",
        "colab": {
          "base_uri": "https://localhost:8080/",
          "height": 34
        }
      },
      "source": [
        "# Montagem do drive para o carregamento da base de dados por meio do google colab\n",
        "drive.mount('/content/drive/')"
      ],
      "execution_count": 2,
      "outputs": [
        {
          "output_type": "stream",
          "text": [
            "Mounted at /content/drive/\n"
          ],
          "name": "stdout"
        }
      ]
    },
    {
      "cell_type": "code",
      "metadata": {
        "id": "QqM98CHvSUsQ"
      },
      "source": [
        "# Leitura do dataset covtype.csv\n",
        "\n",
        "df = pd.read_csv('/content/drive/My Drive/Colab Notebooks/covtype.csv', sep=',')"
      ],
      "execution_count": 29,
      "outputs": []
    },
    {
      "cell_type": "markdown",
      "metadata": {
        "id": "_mFC2MiLRwH2"
      },
      "source": [
        "### Manipulando a base de dados\n",
        "\n",
        "1. Abra a base de dados com o pandas\n",
        "2. Imprima os 10 primeiros exemplos pertencentes à esta base\n",
        "3. Imprima os 10 últimos exemplos pertencentes à esta base\n",
        "4. Quantos exemplos esta base de dados possui?\n",
        "5. Quais são os atributos que a base de dados possui e quais seus tipos?\n",
        "6. Há algum dado faltante na base?\n",
        "7. De acordo com a documentação da base de dados, qual o significado dos atributos do tipo \"Soil Type\"?  \n",
        "  7.1 Este atributo é quantitativo ou qualitativo?  \n",
        "  7.2 Qual o tipo de codificação utilizada para denotar este atributo? Consulte a seguinte referência:  \n",
        "  * https://pbpython.com/categorical-encoding.html"
      ]
    },
    {
      "cell_type": "code",
      "metadata": {
        "id": "jW3vF1CzRwH2",
        "outputId": "92c8d138-a935-4d64-e766-e5fe24ac4cbf",
        "colab": {
          "base_uri": "https://localhost:8080/",
          "height": 238
        }
      },
      "source": [
        "# Impressao dos 10 primeiros elementos do dataset\n",
        "\n",
        "print(df.head(10))"
      ],
      "execution_count": 30,
      "outputs": [
        {
          "output_type": "stream",
          "text": [
            "   Elevation  Aspect  Slope  ...  Soil_Type39  Soil_Type40  Cover_Type\n",
            "0       2596      51      3  ...            0            0           5\n",
            "1       2590      56      2  ...            0            0           5\n",
            "2       2804     139      9  ...            0            0           2\n",
            "3       2785     155     18  ...            0            0           2\n",
            "4       2595      45      2  ...            0            0           5\n",
            "5       2579     132      6  ...            0            0           2\n",
            "6       2606      45      7  ...            0            0           5\n",
            "7       2605      49      4  ...            0            0           5\n",
            "8       2617      45      9  ...            0            0           5\n",
            "9       2612      59     10  ...            0            0           5\n",
            "\n",
            "[10 rows x 55 columns]\n"
          ],
          "name": "stdout"
        }
      ]
    },
    {
      "cell_type": "code",
      "metadata": {
        "id": "hpOSS__GRwH4",
        "outputId": "3d1ffccf-84e3-4046-a2d6-775059ac2c4c",
        "colab": {
          "base_uri": "https://localhost:8080/",
          "height": 238
        }
      },
      "source": [
        "# Impressao dos 10 ultimos elementos do dataset\n",
        "\n",
        "print(df.tail(10))"
      ],
      "execution_count": 31,
      "outputs": [
        {
          "output_type": "stream",
          "text": [
            "        Elevation  Aspect  Slope  ...  Soil_Type39  Soil_Type40  Cover_Type\n",
            "581002       2419     168     25  ...            0            0           3\n",
            "581003       2415     161     25  ...            0            0           3\n",
            "581004       2410     158     24  ...            0            0           3\n",
            "581005       2405     159     22  ...            0            0           3\n",
            "581006       2401     157     21  ...            0            0           3\n",
            "581007       2396     153     20  ...            0            0           3\n",
            "581008       2391     152     19  ...            0            0           3\n",
            "581009       2386     159     17  ...            0            0           3\n",
            "581010       2384     170     15  ...            0            0           3\n",
            "581011       2383     165     13  ...            0            0           3\n",
            "\n",
            "[10 rows x 55 columns]\n"
          ],
          "name": "stdout"
        }
      ]
    },
    {
      "cell_type": "code",
      "metadata": {
        "id": "UIzUd2agRwH6",
        "outputId": "7fb1d93e-bbbc-47d0-adc2-1d24a3df3577",
        "colab": {
          "base_uri": "https://localhost:8080/",
          "height": 34
        }
      },
      "source": [
        "print(\"Esta base de dados possui exatamente {} exemplos brutos.\".format(len(df)))"
      ],
      "execution_count": 32,
      "outputs": [
        {
          "output_type": "stream",
          "text": [
            "Esta base de dados possui exatamente 581012 exemplos brutos.\n"
          ],
          "name": "stdout"
        }
      ]
    },
    {
      "cell_type": "code",
      "metadata": {
        "id": "8pfJYS1JRwH8",
        "outputId": "fa0f3c24-80e7-4206-a532-068583eb34b5",
        "colab": {
          "base_uri": "https://localhost:8080/",
          "height": 969
        }
      },
      "source": [
        "# Verificação dos atributos da base de dados e seus respectivos tipos\n",
        "\n",
        "print(df.dtypes)"
      ],
      "execution_count": 69,
      "outputs": [
        {
          "output_type": "stream",
          "text": [
            "Elevation                             int64\n",
            "Aspect                                int64\n",
            "Slope                                 int64\n",
            "Horizontal_Distance_To_Hydrology      int64\n",
            "Vertical_Distance_To_Hydrology        int64\n",
            "Horizontal_Distance_To_Roadways       int64\n",
            "Hillshade_9am                         int64\n",
            "Hillshade_Noon                        int64\n",
            "Hillshade_3pm                         int64\n",
            "Horizontal_Distance_To_Fire_Points    int64\n",
            "Wilderness_Area1                      int64\n",
            "Wilderness_Area2                      int64\n",
            "Wilderness_Area3                      int64\n",
            "Wilderness_Area4                      int64\n",
            "Soil_Type1                            int64\n",
            "Soil_Type2                            int64\n",
            "Soil_Type3                            int64\n",
            "Soil_Type4                            int64\n",
            "Soil_Type5                            int64\n",
            "Soil_Type6                            int64\n",
            "Soil_Type7                            int64\n",
            "Soil_Type8                            int64\n",
            "Soil_Type9                            int64\n",
            "Soil_Type10                           int64\n",
            "Soil_Type11                           int64\n",
            "Soil_Type12                           int64\n",
            "Soil_Type13                           int64\n",
            "Soil_Type14                           int64\n",
            "Soil_Type15                           int64\n",
            "Soil_Type16                           int64\n",
            "Soil_Type17                           int64\n",
            "Soil_Type18                           int64\n",
            "Soil_Type19                           int64\n",
            "Soil_Type20                           int64\n",
            "Soil_Type21                           int64\n",
            "Soil_Type22                           int64\n",
            "Soil_Type23                           int64\n",
            "Soil_Type24                           int64\n",
            "Soil_Type25                           int64\n",
            "Soil_Type26                           int64\n",
            "Soil_Type27                           int64\n",
            "Soil_Type28                           int64\n",
            "Soil_Type29                           int64\n",
            "Soil_Type30                           int64\n",
            "Soil_Type31                           int64\n",
            "Soil_Type32                           int64\n",
            "Soil_Type33                           int64\n",
            "Soil_Type34                           int64\n",
            "Soil_Type35                           int64\n",
            "Soil_Type36                           int64\n",
            "Soil_Type37                           int64\n",
            "Soil_Type38                           int64\n",
            "Soil_Type39                           int64\n",
            "Soil_Type40                           int64\n",
            "Cover_Type                            int64\n",
            "dtype: object\n"
          ],
          "name": "stdout"
        }
      ]
    },
    {
      "cell_type": "code",
      "metadata": {
        "id": "SolpvSOmZqon",
        "outputId": "551e8000-1b86-444e-e152-088bf9a53afe",
        "colab": {
          "base_uri": "https://localhost:8080/",
          "height": 34
        }
      },
      "source": [
        "# Verificacao da existencia de dados faltantes\n",
        "\n",
        "print(\"Há {} dados faltantes na base de dados\".format(len(df) - len(df.dropna())) \n",
        "      if len(df) != len(df.dropna()) else \n",
        "      \"Não há dados faltantes da base de dados\")"
      ],
      "execution_count": 67,
      "outputs": [
        {
          "output_type": "stream",
          "text": [
            "Não há dados faltantes da base de dados\n"
          ],
          "name": "stdout"
        }
      ]
    },
    {
      "cell_type": "markdown",
      "metadata": {
        "id": "o_k-MNVkc4Bp"
      },
      "source": [
        "De acordo com a base de dados, o atributo `Soil_Type` singnifica a designação do tipo de solo. Sendo ele um atributo qualitativo binario de 40 caracteres dividos de forma bruta em 40 atributos no dataset sendo que o valor 0 segnifica a ausencia e o numero 1 apresenca dentro do contexto da base de dados."
      ]
    },
    {
      "cell_type": "markdown",
      "metadata": {
        "id": "XJa6p-S3RwH_"
      },
      "source": [
        "### Visualizando a base de dados\n",
        "\n",
        "1. Baseando-se nos fundamentos de visualização de dados abordados na disciplina, plote cada um dos atributos preditores de maneira a enfatizar a sua distribuição, tendência central e dispersão  \n",
        "1.1 Considere que o número de columas no dataset é diferente do número de atributos, conforme discussão promovida a respeito do dataset  \n",
        "1.2 Se preferir, opte por complementar as informações visuais com medidas estatísticas  \n",
        "2. A partir da visualização elaborada, o que pode-se dizer a respeito do balanceamento do atributo-alvo?\n",
        "3. Que tipo de tarefa de Aprendizado de Máquina é sugestiva para este problema?  \n",
        "3.1 Apresente métricas de desempenho compatíveis para a avaliação do problema (liste-as)  \n",
        "3.2 Escolha uma das métricas apresentadas para ser utilizada como referência pela equipe"
      ]
    },
    {
      "cell_type": "code",
      "metadata": {
        "id": "-gMUXrZcRwH_"
      },
      "source": [
        ""
      ],
      "execution_count": null,
      "outputs": []
    },
    {
      "cell_type": "code",
      "metadata": {
        "id": "dYs1Xk4rRwIC"
      },
      "source": [
        ""
      ],
      "execution_count": null,
      "outputs": []
    },
    {
      "cell_type": "code",
      "metadata": {
        "id": "mfPpFRiORwIE"
      },
      "source": [
        ""
      ],
      "execution_count": null,
      "outputs": []
    },
    {
      "cell_type": "code",
      "metadata": {
        "id": "6-H7vJf6RwIH"
      },
      "source": [
        ""
      ],
      "execution_count": null,
      "outputs": []
    },
    {
      "cell_type": "code",
      "metadata": {
        "id": "sdHx9MLsRwIJ"
      },
      "source": [
        ""
      ],
      "execution_count": null,
      "outputs": []
    },
    {
      "cell_type": "code",
      "metadata": {
        "id": "FJyDahsZRwIL"
      },
      "source": [
        ""
      ],
      "execution_count": null,
      "outputs": []
    }
  ]
}